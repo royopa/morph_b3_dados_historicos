{
 "cells": [
  {
   "cell_type": "code",
   "execution_count": 16,
   "metadata": {},
   "outputs": [],
   "source": [
    "#!/usr/local/bin/python\n",
    "# -*- coding: utf-8 -*-\n",
    "import csv\n",
    "import datetime\n",
    "import os\n",
    "import random\n",
    "from datetime import datetime, timedelta\n",
    "from glob import glob\n",
    "from zipfile import ZipFile, error\n",
    "\n",
    "import dask.dataframe as dd\n",
    "import pandas as pd\n",
    "import requests\n",
    "import scraperwiki\n",
    "from bizdays import Calendar, load_holidays\n",
    "from pandas.core.arrays.sparse import dtype\n",
    "from tqdm import tqdm\n",
    "\n",
    "from layout_b3 import LayoutB3"
   ]
  },
  {
   "cell_type": "code",
   "execution_count": 17,
   "metadata": {},
   "outputs": [],
   "source": [
    "layout = LayoutB3()\n",
    "extraidos_path = os.path.join('extraidos')\n",
    "\n",
    "df = dd.read_fwf(\n",
    "    f'{extraidos_path}/COTAHIST*',\n",
    "    colspecs=layout.get_posicoes(),\n",
    "    skiprows=1,\n",
    "    skipfooter=1,\n",
    "    names=layout.get_campos(),\n",
    "    encoding='latin1',\n",
    "    dtype={'PRAZOT': 'object'}\n",
    ")"
   ]
  },
  {
   "cell_type": "code",
   "execution_count": 18,
   "metadata": {},
   "outputs": [
    {
     "data": {
      "text/plain": [
       "TIPREG      int64\n",
       "DATA        int64\n",
       "CODBDI     object\n",
       "CODNEG     object\n",
       "TPMERC      int64\n",
       "NOMRES     object\n",
       "ESPECI     object\n",
       "PRAZOT     object\n",
       "MODREF     object\n",
       "PREABE    float64\n",
       "PREMAX    float64\n",
       "PREMIN    float64\n",
       "PREMED    float64\n",
       "PREULT    float64\n",
       "PREOFC    float64\n",
       "PREOFV    float64\n",
       "TOTNEG      int64\n",
       "QUATOT      int64\n",
       "VOLTOT    float64\n",
       "PREEXE    float64\n",
       "INDOPC      int64\n",
       "DATVEN      int64\n",
       "FATCOT      int64\n",
       "PTOEXE    float64\n",
       "CODISI     object\n",
       "DISMES      int64\n",
       "dtype: object"
      ]
     },
     "execution_count": 18,
     "metadata": {},
     "output_type": "execute_result"
    }
   ],
   "source": [
    "df['TIPREG'] = df['TIPREG']\n",
    "df['DATA'] = df['DATA']\n",
    "df['CODBDI'] = df['CODBDI'].astype(str)\n",
    "df['CODNEG'] = df['CODNEG'].astype(str)\n",
    "df['TPMERC'] = df['TPMERC']\n",
    "df['NOMRES'] = df['NOMRES'].astype(str)\n",
    "df['ESPECI'] = df['ESPECI'].astype(str)\n",
    "df['PRAZOT'] = df['PRAZOT'].astype(str)\n",
    "df['MODREF'] = df['MODREF'].astype(str)\n",
    "df['PREABE'] = df['PREABE'].astype(float)\n",
    "df['PREMAX'] = df['PREMAX'].astype(float)\n",
    "df['PREMIN'] = df['PREMIN'].astype(float)\n",
    "df['PREMED'] = df['PREMED'].astype(float)\n",
    "df['PREULT'] = df['PREULT'].astype(float)\n",
    "df['PREOFC'] = df['PREOFC'].astype(float)\n",
    "df['PREOFV'] = df['PREOFV'].astype(float)\n",
    "df['TOTNEG'] = df['TOTNEG']\n",
    "df['QUATOT'] = df['QUATOT']\n",
    "df['VOLTOT'] = df['VOLTOT'].astype(float)\n",
    "df['PREEXE'] = df['PREEXE'].astype(float)\n",
    "df['INDOPC'] = df['INDOPC']\n",
    "df['DATVEN'] = df['DATVEN']\n",
    "df['FATCOT'] = df['FATCOT']\n",
    "df['PTOEXE'] = df['PTOEXE'].astype(float)\n",
    "df['CODISI'] = df['CODISI'].astype(str)\n",
    "df['DISMES'] = df['DISMES']\n",
    "\n",
    "df.dtypes"
   ]
  },
  {
   "cell_type": "code",
   "execution_count": null,
   "metadata": {},
   "outputs": [],
   "source": [
    "# Converte campo de data\n",
    "df = df.compute()\n",
    "df['DATA'] = pd.to_datetime(\n",
    "    df['DATA'], format='%Y%m%d', errors='coerce')\n",
    "\n",
    "\n",
    "df.tail()"
   ]
  },
  {
   "cell_type": "code",
   "execution_count": null,
   "metadata": {},
   "outputs": [],
   "source": [
    "print('Salvando csv de saída', base_path)\n",
    "df.to_csv('%s/final.csv' % base_path, mode='a', header=True, index=False)"
   ]
  }
 ],
 "metadata": {
  "kernelspec": {
   "display_name": "Python 3",
   "language": "python",
   "name": "python3"
  },
  "language_info": {
   "codemirror_mode": {
    "name": "ipython",
    "version": 3
   },
   "file_extension": ".py",
   "mimetype": "text/x-python",
   "name": "python",
   "nbconvert_exporter": "python",
   "pygments_lexer": "ipython3",
   "version": "3.7.7"
  }
 },
 "nbformat": 4,
 "nbformat_minor": 4
}
