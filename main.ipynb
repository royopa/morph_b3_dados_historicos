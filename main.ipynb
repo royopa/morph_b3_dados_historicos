{
 "cells": [
  {
   "cell_type": "code",
   "execution_count": 1,
   "metadata": {},
   "outputs": [],
   "source": [
    "from datetime import datetime\n",
    "import urllib.request\n",
    "import os\n",
    "import requests\n",
    "from tqdm import tqdm\n",
    "import os\n",
    "from zipfile import ZipFile"
   ]
  },
  {
   "cell_type": "code",
   "execution_count": 2,
   "metadata": {},
   "outputs": [],
   "source": [
    "def download_file(url, file_name):\n",
    "    response = requests.get(url, stream=True)\n",
    "    with open(file_name, \"wb\") as handle:\n",
    "        for data in tqdm(response.iter_content()):\n",
    "            handle.write(data)\n",
    "    handle.close()\n",
    "\n",
    "    \n",
    "def create_download_folder():\n",
    "    # Create directory\n",
    "    dirName = os.path.join('downloads')\n",
    " \n",
    "    try:\n",
    "        # Create target Directory\n",
    "        os.mkdir(dirName)\n",
    "        print(\"Directory\", dirName, \"Created \")\n",
    "    except Exception:\n",
    "        print(\"Directory\", dirName, \"already exists\")\n",
    "\n",
    "\n",
    "def extract_file(path_file):\n",
    "    with ZipFile(path_file, 'r') as zipObj:\n",
    "    # Get a list of all archived file names from the zip\n",
    "        list_of_file_names = zipObj.namelist()\n",
    "        # Iterate over the file names\n",
    "        for file_name in list_of_file_names:\n",
    "            if file_name.startswith('COTAHIST.A'):\n",
    "                print('Extracting', file_name)\n",
    "                zipObj.extract(file_name, path='downloads')"
   ]
  },
  {
   "cell_type": "code",
   "execution_count": 3,
   "metadata": {},
   "outputs": [],
   "source": [
    "url_base = 'http://bvmf.bmfbovespa.com.br/InstDados/SerHist/COTAHIST_A'"
   ]
  },
  {
   "cell_type": "code",
   "execution_count": 4,
   "metadata": {},
   "outputs": [],
   "source": [
    "urls = [f'{url_base}{i}.zip' for i in range(1986, datetime.today().year + 1)]"
   ]
  },
  {
   "cell_type": "code",
   "execution_count": 5,
   "metadata": {},
   "outputs": [
    {
     "ename": "SyntaxError",
     "evalue": "invalid syntax (<ipython-input-5-df377e0d844c>, line 7)",
     "output_type": "error",
     "traceback": [
      "\u001b[0;36m  File \u001b[0;32m\"<ipython-input-5-df377e0d844c>\"\u001b[0;36m, line \u001b[0;32m7\u001b[0m\n\u001b[0;31m    os.path.exists(file_path) is False:\u001b[0m\n\u001b[0m                                       ^\u001b[0m\n\u001b[0;31mSyntaxError\u001b[0m\u001b[0;31m:\u001b[0m invalid syntax\n"
     ]
    }
   ],
   "source": [
    "create_download_folder()\n",
    "    \n",
    "for url in urls:\n",
    "    print('Baixando', url, )\n",
    "    file_path = os.path.join('downloads', url.split('/')[-1])\n",
    "    \n",
    "    os.path.exists(file_path) is False:\n",
    "        download_file(url, file_path)\n",
    "\n",
    "    os.path.exists(file_path):\n",
    "        print('Extraindo arquivo', file_path)\n",
    "        extract_file(file_path)\n",
    "\n",
    "    print('Removendo arquivo', file_path)\n",
    "    os.remove(file_path)    "
   ]
  }
 ],
 "metadata": {
  "kernelspec": {
   "display_name": "Python 3",
   "language": "python",
   "name": "python3"
  },
  "language_info": {
   "codemirror_mode": {
    "name": "ipython",
    "version": 3
   },
   "file_extension": ".py",
   "mimetype": "text/x-python",
   "name": "python",
   "nbconvert_exporter": "python",
   "pygments_lexer": "ipython3",
   "version": "3.7.7"
  }
 },
 "nbformat": 4,
 "nbformat_minor": 4
}
